{
 "cells": [
  {
   "cell_type": "code",
   "execution_count": 49,
   "metadata": {},
   "outputs": [
    {
     "name": "stdout",
     "output_type": "stream",
     "text": [
      "Data cleaning query\n",
      "         index   Student_ID Semster_Name     Paper_ID Paper_Name  Marks  \\\n",
      "0            0  SID20131143        Sem_1  SEMI0012995    Paper 1   44.0   \n",
      "1            1  SID20131143        Sem_1  SEMI0015183    Paper 2   74.0   \n",
      "2            2  SID20131143        Sem_1  SEMI0018371    Paper 3   80.0   \n",
      "3            3  SID20131143        Sem_1  SEMI0015910    Paper 4   44.0   \n",
      "4            4  SID20131143        Sem_1  SEMI0016208    Paper 5   95.0   \n",
      "...        ...          ...          ...          ...        ...    ...   \n",
      "209596  209605  SID20189989        Sem_8  SEMI0082598    Paper 3   94.0   \n",
      "209597  209606  SID20189989        Sem_8  SEMI0088030    Paper 4   49.0   \n",
      "209598  209607  SID20189989        Sem_8  SEMI0081794    Paper 5   47.0   \n",
      "209599  209608  SID20189989        Sem_8  SEMI0086600    Paper 6   87.0   \n",
      "209600  209609  SID20189989        Sem_8  SEMI0083259    Paper 6   73.0   \n",
      "\n",
      "        Effort_Hours  \n",
      "0                5.0  \n",
      "1                8.0  \n",
      "2                8.0  \n",
      "3                5.0  \n",
      "4               12.0  \n",
      "...              ...  \n",
      "209596          12.0  \n",
      "209597           5.0  \n",
      "209598         257.0  \n",
      "209599          11.0  \n",
      "209600           8.0  \n",
      "\n",
      "[209601 rows x 7 columns]\n"
     ]
    }
   ],
   "source": [
    "import pandas as pd;\n",
    "import sqlite3 as sql;\n",
    "import os\n",
    "conn = sql.connect(\"database.db\")\n",
    "cursor = conn.cursor()\n",
    "\n",
    "#This for-loop goes through all the csv files to create a dataframe for each file and adds them to the sqlite database\n",
    "for file_name in os.listdir('./Data/'):\n",
    "    if file_name.endswith('.csv'):\n",
    "        df = pd.read_csv('Data/'+file_name)\n",
    "        df.to_sql(file_name[:-4], conn, if_exists='replace')\n",
    "\n",
    "\n",
    "#print(\"marks\")\n",
    "# SELECT  * from Student_Performance_Data Where Marks >= 100 OR Marks <= 0 AND Marks Is Not Null\n",
    "# SELECT  * from Student_Performance_Data \n",
    "# query1 = 'SELECT  * from Student_Performance_Data Where Marks >= 0 AND Marks <= 100 AND Marks Is Not Null'\n",
    "# results = pd.read_sql_query(query1, conn)\n",
    "# print(results)\n",
    "\n",
    "\n",
    "#SELECT  * from Student_Performance_Data Where Effort_Hours >=0 AND Effort_Hours IS NOT NULL AND TRUNC(Effort_Hours)\n",
    "#query2 = \"SELECT  * from Student_Performance_Data Where Effort_Hours >=0 AND Effort_Hours IS NOT NULL AND CEILING(Effort_Hours) = FLOOR(Effort_Hours)\"\n",
    "\n",
    "# print(\"hours\")\n",
    "# query2 = \"SELECT  * from Student_Performance_Data Where Effort_Hours >=0 AND Effort_Hours IS NOT NULL AND CEILING(Effort_Hours) = FLOOR(Effort_Hours)\"\n",
    "# results = pd.read_sql_query(query2, conn)\n",
    "# print(results)\n",
    "\n",
    "# print(\"Not null\")\n",
    "# #query3 = 'SELECT employee.EMPLOYEE_NAME FROM employee JOIN supervise ON employee.EMPLOYEE_NAME = supervise.SUBORDINATE WHERE supervise.SUPERVISOR IS NULL;'\n",
    "# query3 = \"SELECT * from Student_Performance_Data Where Student_ID IS NOT NULL AND Semster_Name IS NOT NULL AND Paper_ID IS NOT NULL AND Paper_Name IS NOT NULL\"\n",
    "# results = pd.read_sql_query(query3, conn)\n",
    "# print(results)\n",
    "        \n",
    "print(\"Data cleaning query\")\n",
    "#query3 = 'SELECT employee.EMPLOYEE_NAME FROM employee JOIN supervise ON employee.EMPLOYEE_NAME = supervise.SUBORDINATE WHERE supervise.SUPERVISOR IS NULL;'\n",
    "query4 = \"SELECT * from Student_Performance_Data Where Student_ID IS NOT NULL AND Semster_Name IS NOT NULL AND Paper_ID IS NOT NULL AND Paper_Name IS NOT NULL AND  Marks >= 0 AND Marks <= 100 AND Marks Is Not Null AND Effort_Hours >=0 AND Effort_Hours IS NOT NULL AND CEILING(Effort_Hours) = FLOOR(Effort_Hours) AND Student_ID IS NOT NULL AND Semster_Name IS NOT NULL AND Paper_ID IS NOT NULL AND Paper_Name IS NOT NULL\"\n",
    "results = pd.read_sql_query(query4, conn)\n",
    "#print(results)\n",
    "print(results.to_string(index=False))\n",
    "file_name = \"cleanData.csv\"\n",
    "results.to_csv(file_name, encoding='utf-8', index=False)\n",
    "\n",
    "\n",
    "\n",
    "\n"
   ]
  },
  {
   "cell_type": "markdown",
   "metadata": {},
   "source": []
  }
 ],
 "metadata": {
  "kernelspec": {
   "display_name": "Python 3",
   "language": "python",
   "name": "python3"
  },
  "language_info": {
   "codemirror_mode": {
    "name": "ipython",
    "version": 3
   },
   "file_extension": ".py",
   "mimetype": "text/x-python",
   "name": "python",
   "nbconvert_exporter": "python",
   "pygments_lexer": "ipython3",
   "version": "3.11.5"
  },
  "orig_nbformat": 4
 },
 "nbformat": 4,
 "nbformat_minor": 2
}
