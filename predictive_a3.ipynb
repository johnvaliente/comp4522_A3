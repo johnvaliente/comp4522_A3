{
 "cells": [
  {
   "cell_type": "code",
   "execution_count": 4,
   "metadata": {},
   "outputs": [
    {
     "name": "stdout",
     "output_type": "stream",
     "text": [
      "Student            Predicted Score in next paper      Department     \n",
      "SID20131151        81.91546178813809                    IDEPT6347\n",
      "SID20149500        82.25427947376441                    IDEPT4308\n",
      "SID20182516        82.1694259983626                    IDEPT3062\n"
     ]
    },
    {
     "name": "stderr",
     "output_type": "stream",
     "text": [
      "C:\\Users\\donto\\AppData\\Roaming\\Python\\Python310\\site-packages\\sklearn\\base.py:493: UserWarning: X does not have valid feature names, but LinearRegression was fitted with feature names\n",
      "  warnings.warn(\n",
      "C:\\Users\\donto\\AppData\\Roaming\\Python\\Python310\\site-packages\\sklearn\\base.py:493: UserWarning: X does not have valid feature names, but LinearRegression was fitted with feature names\n",
      "  warnings.warn(\n",
      "C:\\Users\\donto\\AppData\\Roaming\\Python\\Python310\\site-packages\\sklearn\\base.py:493: UserWarning: X does not have valid feature names, but LinearRegression was fitted with feature names\n",
      "  warnings.warn(\n"
     ]
    }
   ],
   "source": [
    "import numpy as np\n",
    "import pandas as pd\n",
    "from sklearn.linear_model import LinearRegression\n",
    "import matplotlib.pyplot as plt\n",
    "import sqlite3 as sql;\n",
    "\n",
    "conn = sql.connect(\"database.db\")\n",
    "cursor = conn.cursor()\n",
    "\n",
    "df = pd.read_csv('./Data/Student_Counceling_Information.csv')\n",
    "df.to_sql('Student_Councelling_Information', conn, if_exists='replace')\n",
    "\n",
    "clean_data = pd.read_csv('./cleanData.csv')\n",
    "\n",
    "print(f'{\"Student\":<15}    {\"Predicted Score in next paper\":<30}     {\"Department\":<15}')\n",
    "\n",
    "# student IDs\n",
    "student_ids = ['SID20131151','SID20149500','SID20182516']\n",
    "\n",
    "for student_id in student_ids:\n",
    "   \n",
    "    # Filter the data for the specific student\n",
    "    student_data = clean_data[clean_data['Student_ID'] == student_id]\n",
    "\n",
    "    # Prepare the features (X) and target (y)\n",
    "    X = student_data[['Effort_Hours']]\n",
    "    y = student_data[['Marks']]\n",
    "\n",
    "    # Create and train the linear regression model\n",
    "    model = LinearRegression()\n",
    "    model.fit(X, y)\n",
    "\n",
    "    # Predict the score for an effort of 10 hours\n",
    "    predicted_score = model.predict([[10]])\n",
    "\n",
    "    #create query to find the department\n",
    "    query = \"SELECT Department_Admission FROM Student_Councelling_Information WHERE Student_ID = '{student_id}'\".format(student_id=student_id)\n",
    "    results = pd.read_sql_query(query, conn)\n",
    "    department = results[\"Department_Admission\"].iloc[0]\n",
    "\n",
    "    print(f'{student_id}        {predicted_score[0][0]}                    {department}')\n",
    "\n",
    "\n"
   ]
  }
 ],
 "metadata": {
  "kernelspec": {
   "display_name": "Python 3",
   "language": "python",
   "name": "python3"
  },
  "language_info": {
   "codemirror_mode": {
    "name": "ipython",
    "version": 3
   },
   "file_extension": ".py",
   "mimetype": "text/x-python",
   "name": "python",
   "nbconvert_exporter": "python",
   "pygments_lexer": "ipython3",
   "version": "3.10.1"
  },
  "orig_nbformat": 4
 },
 "nbformat": 4,
 "nbformat_minor": 2
}
