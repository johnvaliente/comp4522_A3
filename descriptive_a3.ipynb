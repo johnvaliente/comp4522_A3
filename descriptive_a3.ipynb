{
 "cells": [
  {
   "cell_type": "code",
   "execution_count": 1,
   "metadata": {},
   "outputs": [
    {
     "name": "stdout",
     "output_type": "stream",
     "text": [
      "All Marks & Effort Hours\n",
      "               Marks   Effort_Hours\n",
      "count  209601.000000  209601.000000\n",
      "mean       69.589372       8.085233\n",
      "std        18.098372       2.797781\n",
      "min        19.000000       2.000000\n",
      "25%        54.000000       6.000000\n",
      "50%        70.000000       7.000000\n",
      "75%        85.000000      10.000000\n",
      "max       100.000000     257.000000\n"
     ]
    }
   ],
   "source": [
    "import pandas as pd;\n",
    "import sqlite3 as sql;\n",
    "import os\n",
    "\n",
    "df = pd.read_csv('./cleanData.csv')\n",
    "\n",
    "# print(df)\n",
    "\n",
    "\n",
    "df_subset = df.drop(columns=['index'])\n",
    "\n",
    "\n",
    "print(\"All Marks & Effort Hours\")\n",
    "print(df_subset.describe())\n",
    "\n"
   ]
  },
  {
   "cell_type": "code",
   "execution_count": null,
   "metadata": {},
   "outputs": [],
   "source": []
  }
 ],
 "metadata": {
  "kernelspec": {
   "display_name": "Python 3",
   "language": "python",
   "name": "python3"
  },
  "language_info": {
   "codemirror_mode": {
    "name": "ipython",
    "version": 3
   },
   "file_extension": ".py",
   "mimetype": "text/x-python",
   "name": "python",
   "nbconvert_exporter": "python",
   "pygments_lexer": "ipython3",
   "version": "3.10.1"
  },
  "orig_nbformat": 4
 },
 "nbformat": 4,
 "nbformat_minor": 2
}
